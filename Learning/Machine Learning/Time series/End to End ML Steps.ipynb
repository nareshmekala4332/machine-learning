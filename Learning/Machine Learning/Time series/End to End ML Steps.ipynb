{
 "cells": [
  {
   "cell_type": "markdown",
   "metadata": {},
   "source": [
    "# End to End Machine Learning Steps\n",
    "---"
   ]
  },
  {
   "cell_type": "markdown",
   "metadata": {},
   "source": [
    "## Step 1: Define the problem\n",
    "\n",
    "* Can the problem be solved with Supervised, Unsupervised, Reinforncement or mixed learning?\n",
    "    * For supervised learning: What is/are the target variable(s)?\n",
    "    * For unsupervised learniing: Clustering? Outlier/Anomaly detection?\n",
    "    * For reinforcement learning: What will be the agent's reward?\n",
    "\n",
    "* Establish your performance metrics\n",
    "* Define baseline\n",
    "    * Human level performance\n",
    "    * Other systems/tools\n",
    "* How would success look like?\n",
    "    * Establish Specific, Relevant and Attainable targets\n",
    "\n",
    "\n",
    "\n",
    "**Important note:** *it is very important to have a clear understanding on what the real problem is before starting with data acquisition and exploration. Equally important is to define how will model performance will be measured and its goals*\n",
    "    \n",
    "---"
   ]
  },
  {
   "cell_type": "markdown",
   "metadata": {},
   "source": [
    "# Step 2: Acquire Data\n",
    "\n",
    "* Find data and document sources\n",
    "* Check for space\n",
    "* Check for terms and conditions\n",
    "* If applicable: get access\n",
    "* Prepare your environment\n",
    "    - [pipenv](https://docs.python.org/3/tutorial/venv.html)\n",
    "    - [Conda](https://docs.conda.io/projects/conda/en/latest/user-guide/tasks/manage-environments.html)\n",
    "* Load libraries\n",
    "* Import data\n",
    "* Deal with sensitive information (delete, protect, anonymize)\n"
   ]
  },
  {
   "cell_type": "code",
   "execution_count": null,
   "metadata": {},
   "outputs": [],
   "source": [
    "# Import libraries\n",
    "\n",
    "import pandas as pd\n",
    "import numpy"
   ]
  },
  {
   "cell_type": "code",
   "execution_count": null,
   "metadata": {},
   "outputs": [],
   "source": [
    "# Import data from file\n",
    "\n",
    "dataframe = pd.read_csv('filename.cvs')"
   ]
  },
  {
   "cell_type": "code",
   "execution_count": null,
   "metadata": {},
   "outputs": [],
   "source": [
    "# import from database\n",
    "\n",
    "import pyodbc\n",
    "\n",
    "#define connection to db and query\n",
    "\n",
    "connector = pyodbc.connect('DRIVER={SQL Server}; SERVER=Server_Name;DATABASE=DB_Name;UID=User;PWD=Password')\n",
    "query = \"SELECT * FROM TableName\"\n",
    "\n",
    "# import data into a dataframe\n",
    "\n",
    "dataframe = pd.read_sql(query, connector)"
   ]
  },
  {
   "cell_type": "markdown",
   "metadata": {},
   "source": [
    "## Step 3: Exploratory data analysis\n",
    "\n",
    "**Understandig your data**\n",
    "\n",
    "* Size of dataset\n",
    "* Variable datatypes\n",
    "* Relationships between variables\n",
    "* Distributions\n",
    "* Correlations\n",
    "* Outliers\n",
    "* Missing values\n",
    "\n",
    "---\n",
    "\n",
    "#### Other libraries suitable for visualization:\n",
    "* [Bokeh](https://bokeh.org/)\n",
    "* [Plotly](https://plot.ly/)"
   ]
  },
  {
   "cell_type": "code",
   "execution_count": null,
   "metadata": {},
   "outputs": [],
   "source": [
    "# import \n",
    "\n",
    "import matplotlib.pyplot as plt\n",
    "import seaborn as sns\n",
    "\n",
    "%matplotlib inline"
   ]
  },
  {
   "cell_type": "markdown",
   "metadata": {},
   "source": [
    "### Plot types:\n",
    "\n",
    "- **Comparison**\n",
    "    * Line Chart: best suited for time series\n",
    "    * Bar Chart: best suited to compare numerical values across categories\n",
    "    * Radar Chart: best suited to plot mulitple variables with each on axis\n",
    "- **Relation**\n",
    "    * Scatter Plot: for 2 or 3 numerical variables\n",
    "    * Bubble Plot: extends for one additional variable (size of the dot)\n",
    "    * Pair Plot: for combination of scatter plot and histograms\n",
    "    * Heatmap: for multivariate datasets\n",
    "- **Composition**\n",
    "    * Pie Chart: to depict numerical portions in a circle\n",
    "    * Stacked Bar Chart: to show how a category is divided into sub-categories and the proportion of the sub-category, in comparison to the overall category\n",
    "    * Stacked Area Chart: to show trends for part-of-a-whole relations where the values of several groups are illustrated on top of one another\n",
    "- **Distribution**\n",
    "    * Histogram: visualizes the distribution of a single numerical variable\n",
    "    * KDE or Density Plot: variation of a histogram that uses kernel smoothing\n",
    "    * Box Plot: used to in single numerical variables to show ranges, quartiles, outliers\n",
    "    * Violin Plot: combination between box and density plots\n",
    "- **Geo plots**: to visualize geospatial data"
   ]
  },
  {
   "cell_type": "markdown",
   "metadata": {},
   "source": [
    "## Step 4: Feature Engineering\n",
    "\n",
    "* Impute Missing Values\n",
    "    - Numerical - mean, median, mode\n",
    "    - Categorical - “missing”, mode\n",
    "* Categorical Values\n",
    "    - Encode Rare values ---> “rare”\n",
    "    - Categorical to numerical\n",
    "* Remove Outliers (can be skipped for Tree-based algorithms)\n",
    "* Scaling (can be skipped for Tree-based algorithms)\n",
    "* Normalization (can be skipped for Tree-based algorithms)\n",
    "* Dimensionality reduction\n",
    "    - LDA\n",
    "    - PCA\n",
    "    - tSNE\n",
    "    - IsoMap\n",
    "* Quantitative Feature selection (if applicable)\n",
    "\n",
    "**Important note:** order of steps mentioned above is critical to have good transformers\n"
   ]
  },
  {
   "cell_type": "markdown",
   "metadata": {},
   "source": [
    "### Recommended libraries for easier feature engineering\n",
    "* [Feature Engine](http://feature-engine.readthedocs.io/)\n",
    "* [Feature Tools](https://www.featuretools.com/)\n",
    "\n",
    "---"
   ]
  },
  {
   "cell_type": "markdown",
   "metadata": {},
   "source": [
    "**Important _feature enginering_ notes:** \n",
    "\n",
    "- Split your data on train/test before proceeding with feature engineering\n",
    "- Fit only your training data\n",
    "- Transform both train and test\n",
    "- Don't remove observations in your test data (i.e. outliers)\n",
    "    - Remove outliers only in training data\n",
    "    \n",
    "---"
   ]
  },
  {
   "cell_type": "markdown",
   "metadata": {},
   "source": [
    "## Step 5: Model Training\n",
    "\n",
    "### Linear Models\n",
    "\n",
    "- Linear Regression\n",
    "- Polynomial Regression\n",
    "- LogisticRegression\n",
    "- Support Vector\n",
    "    - SVC\n",
    "    - Linear SVC\n",
    "    - NuSVC\n",
    "- Quadratic Discriminant Analysis\n",
    "- Linear Discriminant Analysis\n",
    "- Stochastic Gradient Descent\n",
    "- Passive Aggressive\n",
    "\n",
    "\n",
    "### Tree based\n",
    "\n",
    "- DecisionTree\n",
    "- RandomForest\n",
    "- AdaBoost\n",
    "- XGBoost\n",
    "- CatBoost\n",
    "- LightGBM\n",
    "\n",
    "### Distance Base\n",
    "- Nearest Neighbors\n",
    "- K Nearest\n",
    "- Nearest Centroid\n",
    "- Radius Neighbors\n",
    "\n",
    "\n",
    "### Bayesian\n",
    "\n",
    "- Gaussian\n",
    "- Complement\n",
    "- Multinomial\n",
    "- Bernoulli\n",
    "\n",
    "### Neural Network\n",
    "- MultiLayer Perceptron\n",
    "- ANN\n",
    "- CNN\n",
    "- RNN\n",
    "- DBN\n",
    "- GAN\n",
    "\n"
   ]
  },
  {
   "cell_type": "code",
   "execution_count": null,
   "metadata": {},
   "outputs": [],
   "source": [
    "# Compare your models and select the best ones foe hyper parameter tuning\n",
    "# Comparison table example for regression\n",
    "\n",
    "algorithms = []\n",
    "algorithms.append(('Regressor_1', regresor()))\n",
    "algorithms.append(('Regressor_2', regresor()))\n",
    "algorithms.append(('Regressor_3', regresor()))\n",
    "\n",
    "\n",
    "names = []\n",
    "train_rmse = []\n",
    "test_rmse = []\n",
    "train_r2 = []\n",
    "test_r2 = []\n",
    "\n",
    "for name, clf in algorithms:\n",
    "    clf.fit(X_train, y_train)\n",
    "    train_rmse.append(sqrt(mean_squared_error(y_train, clf.predict(X_train))))\n",
    "    test_rmse.append(sqrt(mean_squared_error(y_test, clf.predict(X_test))))\n",
    "    train_r2.append(r2_score(y_train, clf.predict(X_train)))\n",
    "    test_r2.append(r2_score(y_test, clf.predict(X_test)))\n",
    "    names.append(name)\n",
    "\n",
    "clf_comparison = pd.DataFrame({'Algorithm': names, 'Train RMSE': train_rmse, 'Test RMSE': test_rmse,\n",
    "                             'Train r square': train_r2, 'Test r square': test_r2})\n",
    "clf_comparison.sort_values(by=['Test RMSE'])"
   ]
  },
  {
   "cell_type": "markdown",
   "metadata": {},
   "source": [
    "---\n",
    "## Step 6: Model Tuning\n",
    "[https://en.wikipedia.org/wiki/Hyperparameter_optimization](https://en.wikipedia.org/wiki/Hyperparameter_optimization)\n",
    "\n",
    "\n",
    "- [GridSearch](https://scikit-learn.org/stable/modules/generated/sklearn.model_selection.GridSearchCV.html#sklearn.model_selection.GridSearchCV)\n",
    "- [RandomSearch](https://scikit-learn.org/stable/modules/generated/sklearn.model_selection.RandomizedSearchCV.html#sklearn.model_selection.RandomizedSearchCV)\n",
    "- [Bayes Search](http://hyperopt.github.io/)\n",
    "- [Genetic](https://epistasislab.github.io/tpot/)\n",
    "\n",
    "---"
   ]
  },
  {
   "cell_type": "markdown",
   "metadata": {},
   "source": [
    "## Step 7: Present results\n",
    "\n",
    "- Feature importances\n"
   ]
  },
  {
   "cell_type": "code",
   "execution_count": null,
   "metadata": {},
   "outputs": [],
   "source": []
  },
  {
   "cell_type": "code",
   "execution_count": null,
   "metadata": {},
   "outputs": [],
   "source": []
  },
  {
   "cell_type": "code",
   "execution_count": null,
   "metadata": {},
   "outputs": [],
   "source": []
  },
  {
   "cell_type": "code",
   "execution_count": null,
   "metadata": {},
   "outputs": [],
   "source": []
  },
  {
   "cell_type": "code",
   "execution_count": null,
   "metadata": {},
   "outputs": [],
   "source": []
  }
 ],
 "metadata": {
  "kernelspec": {
   "display_name": "Python 3",
   "language": "python",
   "name": "python3"
  },
  "language_info": {
   "codemirror_mode": {
    "name": "ipython",
    "version": 3
   },
   "file_extension": ".py",
   "mimetype": "text/x-python",
   "name": "python",
   "nbconvert_exporter": "python",
   "pygments_lexer": "ipython3",
   "version": "3.7.3"
  }
 },
 "nbformat": 4,
 "nbformat_minor": 2
}
